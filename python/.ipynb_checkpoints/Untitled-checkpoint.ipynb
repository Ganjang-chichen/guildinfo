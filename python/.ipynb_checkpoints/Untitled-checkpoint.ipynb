{
 "cells": [
  {
   "cell_type": "code",
   "execution_count": 11,
   "metadata": {},
   "outputs": [],
   "source": [
    "import requests                  # 웹 페이지의 HTML을 가져오는 모듈\n",
    "from bs4 import BeautifulSoup    # HTML을 파싱하는 모듈\n",
    "import time\n",
    "import json\n",
    "import urllib.request\n",
    "import os\n",
    "import sys\n",
    "\n",
    "import json\n",
    "from collections import OrderedDict\n",
    "\n",
    "def find_user (name) :\n",
    "    user_url = \"https://maplestory.nexon.com/Ranking/World/Total?c=\" + name\n",
    "    \n",
    "    res = requests.get(user_url)\n",
    "    user_info = BeautifulSoup(res.content, 'html.parser')\n",
    "    \n",
    "    if user_info.find('div', {'class' : 'none_lsit2'}) :\n",
    "        print(\"no data\")\n",
    "        return\n",
    "    else :\n",
    "        print(2)\n",
    "        table = user_info.find('tbody')\n",
    "\n",
    "        if table :\n",
    "            for tr in table.find_all('tr'):      # 모든 <tr> 태그를 찾아서 반복(각 지점의 데이터를 가져옴)\n",
    "                tds = list(tr.find_all('td'))    # 모든 <td> 태그를 찾아서 리스트로 만듦\n",
    "\n",
    "                a = tr.find('a')\n",
    "                parse_name = tds[1].find('a').text\n",
    "                print(parse_name)\n",
    "                if(parse_name == name) :\n",
    "                    print(parse_name)\n",
    "                    return\n",
    "                \n"
   ]
  },
  {
   "cell_type": "code",
   "execution_count": 12,
   "metadata": {},
   "outputs": [],
   "source": [
    "find_user('rtergrgreg')"
   ]
  }
 ],
 "metadata": {
  "kernelspec": {
   "display_name": "Python 3",
   "language": "python",
   "name": "python3"
  },
  "language_info": {
   "codemirror_mode": {
    "name": "ipython",
    "version": 3
   },
   "file_extension": ".py",
   "mimetype": "text/x-python",
   "name": "python",
   "nbconvert_exporter": "python",
   "pygments_lexer": "ipython3",
   "version": "3.8.5"
  }
 },
 "nbformat": 4,
 "nbformat_minor": 4
}
