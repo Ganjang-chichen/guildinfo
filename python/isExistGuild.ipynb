{
 "cells": [
  {
   "cell_type": "code",
   "execution_count": 1,
   "metadata": {},
   "outputs": [],
   "source": [
    "import requests                  # 웹 페이지의 HTML을 가져오는 모듈\n",
    "from bs4 import BeautifulSoup    # HTML을 파싱하는 모듈\n",
    "import time\n",
    "import json\n",
    "import urllib.request\n",
    "import os\n",
    "import sys"
   ]
  },
  {
   "cell_type": "code",
   "execution_count": 2,
   "metadata": {},
   "outputs": [],
   "source": [
    "WorldID = {\n",
    "    \"리부트2\" : 46,\n",
    "    \"리부트\" : 45,\n",
    "    \"오로라\" : 44,\n",
    "    \"레드\" : 43,\n",
    "    \"이노시스\" : 29,\n",
    "    \"유니온\" : 10,\n",
    "    \"스카니아\" : 0,\n",
    "    \"루나\" : 3,\n",
    "    \"제니스\" : 4,\n",
    "    \"크로아\" : 5,\n",
    "    \"베라\" : 1,\n",
    "    \"엘리시움\" : 16,\n",
    "    \"아케인\" : 50,\n",
    "    \"노바\" : 51,\n",
    "    \"버닝\" : 49,\n",
    "    \"버닝2\" : 48,\n",
    "    \"버닝3\" : 52\n",
    "}"
   ]
  },
  {
   "cell_type": "code",
   "execution_count": 3,
   "metadata": {},
   "outputs": [],
   "source": [
    "def isGuildExist(GuildName, World) :\n",
    "    guild_select_url = \"https://maplestory.nexon.com/Ranking/World/Guild?t=1&n=\" + GuildName;\n",
    "    SELECTED_GID = -1\n",
    "\n",
    "    time.sleep(0.5)\n",
    "    # 웹 페이지를 가져온 뒤 BeautifulSoup 객체로 만듦\n",
    "    response = requests.get(guild_select_url)\n",
    "    soup = BeautifulSoup(response.content, 'html.parser')\n",
    "\n",
    "    gid = []\n",
    "    wid = []\n",
    "\n",
    "    table = soup.find('tbody')\n",
    "\n",
    "    if table :\n",
    "        for tr in table.find_all('tr'):      # 모든 <tr> 태그를 찾아서 반복(각 지점의 데이터를 가져옴)\n",
    "            tds = list(tr.find_all('td'))    # 모든 <td> 태그를 찾아서 리스트로 만듦\n",
    "\n",
    "            a = tr.find('a')\n",
    "            gid.append(a.get('href').split('?')[1].split('&')[0].split('=')[1])\n",
    "            wid.append(a.get('href').split('?')[1].split('&')[1].split('=')[1])\n",
    "\n",
    "        i = 0\n",
    "        \n",
    "        isExist = False\n",
    "        \n",
    "        for selected in wid :\n",
    "            if selected == World:\n",
    "                SELECTED_GID = gid[i]\n",
    "                isExist = True\n",
    "                return True\n",
    "            i = i + 1   \n",
    "\n",
    "        if isExist == False :\n",
    "            return False"
   ]
  },
  {
   "cell_type": "code",
   "execution_count": 4,
   "metadata": {},
   "outputs": [
    {
     "data": {
      "text/plain": [
       "True"
      ]
     },
     "execution_count": 4,
     "metadata": {},
     "output_type": "execute_result"
    }
   ],
   "source": [
    "input = sys.argv\n",
    "GuildName = input[1]\n",
    "World =  str(WorldID[input[2]])\n",
    "\n",
    "\n",
    "\n",
    "isGuildExist(GuildName, World)"
   ]
  }
 ],
 "metadata": {
  "kernelspec": {
   "display_name": "Python 3",
   "language": "python",
   "name": "python3"
  },
  "language_info": {
   "codemirror_mode": {
    "name": "ipython",
    "version": 3
   },
   "file_extension": ".py",
   "mimetype": "text/x-python",
   "name": "python",
   "nbconvert_exporter": "python",
   "pygments_lexer": "ipython3",
   "version": "3.8.5"
  }
 },
 "nbformat": 4,
 "nbformat_minor": 4
}
